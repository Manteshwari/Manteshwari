{
  "nbformat": 4,
  "nbformat_minor": 0,
  "metadata": {
    "colab": {
      "name": "manteshwari pipare.ipynb",
      "provenance": [],
      "collapsed_sections": [],
      "authorship_tag": "ABX9TyN1T0HY5wCogpx9WnFVkp97",
      "include_colab_link": true
    },
    "kernelspec": {
      "name": "python3",
      "display_name": "Python 3"
    }
  },
  "cells": [
    {
      "cell_type": "markdown",
      "metadata": {
        "id": "view-in-github",
        "colab_type": "text"
      },
      "source": [
        "<a href=\"https://colab.research.google.com/github/Manteshwari/Manteshwari/blob/main/manteshwari_pipare.ipynb\" target=\"_parent\"><img src=\"https://colab.research.google.com/assets/colab-badge.svg\" alt=\"Open In Colab\"/></a>"
      ]
    },
    {
      "cell_type": "code",
      "metadata": {
        "id": "nzz5pvB67Fix"
      },
      "source": [
        "import tensorflow as tf\r\n",
        "\r\n",
        "from tensorflow.keras import datasets, layers, models\r\n",
        "import matplotlib.pyplot as plt"
      ],
      "execution_count": 1,
      "outputs": []
    },
    {
      "cell_type": "code",
      "metadata": {
        "colab": {
          "base_uri": "https://localhost:8080/"
        },
        "id": "kU_pLmTG7PFD",
        "outputId": "a6cf6ab3-59be-4451-a16e-e7d7f5a92719"
      },
      "source": [
        "(train_images, train_labels), (test_images, test_lebels) = datasets.cifar10.load_data()\r\n",
        "\r\n",
        "# Normalize pixel value to be become 0 and 1\r\n",
        "train_images, test_images = train_images / 255.0, test_images / 255.0"
      ],
      "execution_count": 2,
      "outputs": [
        {
          "output_type": "stream",
          "text": [
            "Downloading data from https://www.cs.toronto.edu/~kriz/cifar-10-python.tar.gz\n",
            "170500096/170498071 [==============================] - 4s 0us/step\n"
          ],
          "name": "stdout"
        }
      ]
    },
    {
      "cell_type": "code",
      "metadata": {
        "id": "ra8PGjs87O1D"
      },
      "source": [
        "model = models.Sequential()\r\n",
        "model.add(layers.Conv2D(32, (3, 3),activation='relu', input_shape=(32 ,32, 3)))\r\n",
        "model.add(layers.MaxPooling2D((2, 2)))\r\n",
        "model.add(layers.Conv2D(64, (3, 3),activation='relu'))\r\n",
        "model.add(layers.MaxPooling2D((2, 2)))\r\n",
        "model.add(layers.Conv2D(64, (3, 3),activation='relu'))"
      ],
      "execution_count": 4,
      "outputs": []
    },
    {
      "cell_type": "code",
      "metadata": {
        "colab": {
          "base_uri": "https://localhost:8080/"
        },
        "id": "F5T0gfS67cVA",
        "outputId": "bc76c717-fb3a-4bb8-e73f-e2f45ae6691d"
      },
      "source": [
        "model.summary()"
      ],
      "execution_count": 5,
      "outputs": [
        {
          "output_type": "stream",
          "text": [
            "Model: \"sequential_1\"\n",
            "_________________________________________________________________\n",
            "Layer (type)                 Output Shape              Param #   \n",
            "=================================================================\n",
            "conv2d_3 (Conv2D)            (None, 30, 30, 32)        896       \n",
            "_________________________________________________________________\n",
            "max_pooling2d_2 (MaxPooling2 (None, 15, 15, 32)        0         \n",
            "_________________________________________________________________\n",
            "conv2d_4 (Conv2D)            (None, 13, 13, 64)        18496     \n",
            "_________________________________________________________________\n",
            "max_pooling2d_3 (MaxPooling2 (None, 6, 6, 64)          0         \n",
            "_________________________________________________________________\n",
            "conv2d_5 (Conv2D)            (None, 4, 4, 64)          36928     \n",
            "=================================================================\n",
            "Total params: 56,320\n",
            "Trainable params: 56,320\n",
            "Non-trainable params: 0\n",
            "_________________________________________________________________\n"
          ],
          "name": "stdout"
        }
      ]
    },
    {
      "cell_type": "code",
      "metadata": {
        "id": "Tm1uH0J07n59"
      },
      "source": [
        "model.add(layers.Flatten())\r\n",
        "model.add(layers.Dense(64, activation='relu'))\r\n",
        "model.add(layers.Dense(10))"
      ],
      "execution_count": 6,
      "outputs": []
    },
    {
      "cell_type": "code",
      "metadata": {
        "colab": {
          "base_uri": "https://localhost:8080/"
        },
        "id": "4xTPZh8B7uzb",
        "outputId": "d41638cb-7f3b-4813-b2de-2f5d7fef01d4"
      },
      "source": [
        "model.summary()"
      ],
      "execution_count": 7,
      "outputs": [
        {
          "output_type": "stream",
          "text": [
            "Model: \"sequential_1\"\n",
            "_________________________________________________________________\n",
            "Layer (type)                 Output Shape              Param #   \n",
            "=================================================================\n",
            "conv2d_3 (Conv2D)            (None, 30, 30, 32)        896       \n",
            "_________________________________________________________________\n",
            "max_pooling2d_2 (MaxPooling2 (None, 15, 15, 32)        0         \n",
            "_________________________________________________________________\n",
            "conv2d_4 (Conv2D)            (None, 13, 13, 64)        18496     \n",
            "_________________________________________________________________\n",
            "max_pooling2d_3 (MaxPooling2 (None, 6, 6, 64)          0         \n",
            "_________________________________________________________________\n",
            "conv2d_5 (Conv2D)            (None, 4, 4, 64)          36928     \n",
            "_________________________________________________________________\n",
            "flatten (Flatten)            (None, 1024)              0         \n",
            "_________________________________________________________________\n",
            "dense (Dense)                (None, 64)                65600     \n",
            "_________________________________________________________________\n",
            "dense_1 (Dense)              (None, 10)                650       \n",
            "=================================================================\n",
            "Total params: 122,570\n",
            "Trainable params: 122,570\n",
            "Non-trainable params: 0\n",
            "_________________________________________________________________\n"
          ],
          "name": "stdout"
        }
      ]
    },
    {
      "cell_type": "code",
      "metadata": {
        "colab": {
          "base_uri": "https://localhost:8080/"
        },
        "id": "J8kFNdqD73_U",
        "outputId": "6c04bd0c-4b41-4a3e-e055-5257445e5494"
      },
      "source": [
        "model.compile(optimizer='adam',\r\n",
        "              loss=tf.keras.losses.SparseCategoricalCrossentropy(from_logits=True),\r\n",
        "              metrics=['accuracy'])\r\n",
        "\r\n",
        "history = model.fit(train_images, train_labels, epochs=10,\r\n",
        "                    validation_data=(train_images, train_labels))"
      ],
      "execution_count": 8,
      "outputs": [
        {
          "output_type": "stream",
          "text": [
            "Epoch 1/10\n",
            "1563/1563 [==============================] - 98s 62ms/step - loss: 1.7425 - accuracy: 0.3610 - val_loss: 1.2038 - val_accuracy: 0.5701\n",
            "Epoch 2/10\n",
            "1563/1563 [==============================] - 88s 56ms/step - loss: 1.1731 - accuracy: 0.5822 - val_loss: 1.0595 - val_accuracy: 0.6296\n",
            "Epoch 3/10\n",
            "1563/1563 [==============================] - 88s 56ms/step - loss: 1.0022 - accuracy: 0.6505 - val_loss: 0.8694 - val_accuracy: 0.6963\n",
            "Epoch 4/10\n",
            "1563/1563 [==============================] - 88s 57ms/step - loss: 0.8836 - accuracy: 0.6924 - val_loss: 0.7728 - val_accuracy: 0.7314\n",
            "Epoch 5/10\n",
            "1563/1563 [==============================] - 88s 56ms/step - loss: 0.8189 - accuracy: 0.7145 - val_loss: 0.7377 - val_accuracy: 0.7386\n",
            "Epoch 6/10\n",
            "1563/1563 [==============================] - 88s 56ms/step - loss: 0.7432 - accuracy: 0.7401 - val_loss: 0.6606 - val_accuracy: 0.7708\n",
            "Epoch 7/10\n",
            "1563/1563 [==============================] - 88s 56ms/step - loss: 0.6987 - accuracy: 0.7551 - val_loss: 0.6496 - val_accuracy: 0.7737\n",
            "Epoch 8/10\n",
            "1563/1563 [==============================] - 88s 57ms/step - loss: 0.6533 - accuracy: 0.7682 - val_loss: 0.6614 - val_accuracy: 0.7713\n",
            "Epoch 9/10\n",
            "1563/1563 [==============================] - 89s 57ms/step - loss: 0.6153 - accuracy: 0.7799 - val_loss: 0.5444 - val_accuracy: 0.8098\n",
            "Epoch 10/10\n",
            "1563/1563 [==============================] - 88s 56ms/step - loss: 0.5819 - accuracy: 0.7952 - val_loss: 0.5435 - val_accuracy: 0.8089\n"
          ],
          "name": "stdout"
        }
      ]
    },
    {
      "cell_type": "code",
      "metadata": {
        "colab": {
          "base_uri": "https://localhost:8080/"
        },
        "id": "FzRdanjF7_0j",
        "outputId": "9f2565e3-02c3-4ac2-e2a0-45c6bf7e398f"
      },
      "source": [
        "test_loss, test_acc = model.evaluate(test_images, test_lebels, verbose = 2)"
      ],
      "execution_count": 9,
      "outputs": [
        {
          "output_type": "stream",
          "text": [
            "313/313 - 4s - loss: 0.9055 - accuracy: 0.7028\n"
          ],
          "name": "stdout"
        }
      ]
    },
    {
      "cell_type": "code",
      "metadata": {
        "colab": {
          "base_uri": "https://localhost:8080/"
        },
        "id": "-AqwSO4M8A4j",
        "outputId": "90a7e687-0837-460c-9cba-2a87f1238d53"
      },
      "source": [
        "print(test_acc)"
      ],
      "execution_count": 10,
      "outputs": [
        {
          "output_type": "stream",
          "text": [
            "0.7027999758720398\n"
          ],
          "name": "stdout"
        }
      ]
    }
  ]
}